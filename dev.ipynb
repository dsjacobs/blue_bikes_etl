{
 "cells": [
  {
   "cell_type": "code",
   "execution_count": 16,
   "id": "81207b02",
   "metadata": {},
   "outputs": [],
   "source": [
    "import sqlite3\n",
    "import pandas as pd\n",
    "import numpy as np"
   ]
  },
  {
   "cell_type": "code",
   "execution_count": 3,
   "id": "6792e818",
   "metadata": {},
   "outputs": [],
   "source": [
    "conn = sqlite3.connect(\"bluebikes.db\")"
   ]
  },
  {
   "cell_type": "code",
   "execution_count": 4,
   "id": "8ea3c165",
   "metadata": {},
   "outputs": [],
   "source": [
    "stations = pd.read_sql_query(\"SELECT * FROM stations\", conn)\n",
    "rides = pd.read_sql_query(\"SELECT * FROM rides\", conn)\n"
   ]
  },
  {
   "cell_type": "code",
   "execution_count": 5,
   "id": "0c1802db",
   "metadata": {},
   "outputs": [
    {
     "data": {
      "text/html": [
       "<div>\n",
       "<style scoped>\n",
       "    .dataframe tbody tr th:only-of-type {\n",
       "        vertical-align: middle;\n",
       "    }\n",
       "\n",
       "    .dataframe tbody tr th {\n",
       "        vertical-align: top;\n",
       "    }\n",
       "\n",
       "    .dataframe thead th {\n",
       "        text-align: right;\n",
       "    }\n",
       "</style>\n",
       "<table border=\"1\" class=\"dataframe\">\n",
       "  <thead>\n",
       "    <tr style=\"text-align: right;\">\n",
       "      <th></th>\n",
       "      <th>id</th>\n",
       "      <th>station_name</th>\n",
       "    </tr>\n",
       "  </thead>\n",
       "  <tbody>\n",
       "    <tr>\n",
       "      <th>0</th>\n",
       "      <td>None</td>\n",
       "      <td>None</td>\n",
       "    </tr>\n",
       "    <tr>\n",
       "      <th>1</th>\n",
       "      <td>None</td>\n",
       "      <td>87-101 Cambridgepark Drive</td>\n",
       "    </tr>\n",
       "    <tr>\n",
       "      <th>2</th>\n",
       "      <td>None</td>\n",
       "      <td>Boylston St at Berkeley St</td>\n",
       "    </tr>\n",
       "    <tr>\n",
       "      <th>3</th>\n",
       "      <td>None</td>\n",
       "      <td>Boylston St at Exeter St</td>\n",
       "    </tr>\n",
       "    <tr>\n",
       "      <th>4</th>\n",
       "      <td>None</td>\n",
       "      <td>Boylston St at Fairfield St</td>\n",
       "    </tr>\n",
       "  </tbody>\n",
       "</table>\n",
       "</div>"
      ],
      "text/plain": [
       "     id                 station_name\n",
       "0  None                         None\n",
       "1  None   87-101 Cambridgepark Drive\n",
       "2  None   Boylston St at Berkeley St\n",
       "3  None     Boylston St at Exeter St\n",
       "4  None  Boylston St at Fairfield St"
      ]
     },
     "execution_count": 5,
     "metadata": {},
     "output_type": "execute_result"
    }
   ],
   "source": [
    "stations.head()"
   ]
  },
  {
   "cell_type": "code",
   "execution_count": 6,
   "id": "893b90a9",
   "metadata": {},
   "outputs": [
    {
     "data": {
      "text/html": [
       "<div>\n",
       "<style scoped>\n",
       "    .dataframe tbody tr th:only-of-type {\n",
       "        vertical-align: middle;\n",
       "    }\n",
       "\n",
       "    .dataframe tbody tr th {\n",
       "        vertical-align: top;\n",
       "    }\n",
       "\n",
       "    .dataframe thead th {\n",
       "        text-align: right;\n",
       "    }\n",
       "</style>\n",
       "<table border=\"1\" class=\"dataframe\">\n",
       "  <thead>\n",
       "    <tr style=\"text-align: right;\">\n",
       "      <th></th>\n",
       "      <th>ride_id</th>\n",
       "      <th>rideable_type</th>\n",
       "      <th>started_at</th>\n",
       "      <th>ended_at</th>\n",
       "      <th>start_station_id</th>\n",
       "      <th>end_station_id</th>\n",
       "      <th>member_casual</th>\n",
       "    </tr>\n",
       "  </thead>\n",
       "  <tbody>\n",
       "    <tr>\n",
       "      <th>0</th>\n",
       "      <td>0CB95C5072A9A0E5</td>\n",
       "      <td>classic_bike</td>\n",
       "      <td>2025-04-13 21:06:54.496</td>\n",
       "      <td>2025-04-13 21:17:17.456</td>\n",
       "      <td>B32027</td>\n",
       "      <td>E32003</td>\n",
       "      <td>member</td>\n",
       "    </tr>\n",
       "    <tr>\n",
       "      <th>1</th>\n",
       "      <td>5C425780D5F59109</td>\n",
       "      <td>classic_bike</td>\n",
       "      <td>2025-04-28 12:38:52.585</td>\n",
       "      <td>2025-04-28 12:41:22.185</td>\n",
       "      <td>A32044</td>\n",
       "      <td>A32049</td>\n",
       "      <td>member</td>\n",
       "    </tr>\n",
       "    <tr>\n",
       "      <th>2</th>\n",
       "      <td>76808A97675DCECE</td>\n",
       "      <td>classic_bike</td>\n",
       "      <td>2025-04-14 11:36:20.428</td>\n",
       "      <td>2025-04-14 11:58:38.629</td>\n",
       "      <td>S32003</td>\n",
       "      <td>C32004</td>\n",
       "      <td>member</td>\n",
       "    </tr>\n",
       "    <tr>\n",
       "      <th>3</th>\n",
       "      <td>00E6835C21328359</td>\n",
       "      <td>classic_bike</td>\n",
       "      <td>2025-04-14 18:06:25.319</td>\n",
       "      <td>2025-04-14 18:21:04.129</td>\n",
       "      <td>M32053</td>\n",
       "      <td>B32058</td>\n",
       "      <td>member</td>\n",
       "    </tr>\n",
       "    <tr>\n",
       "      <th>4</th>\n",
       "      <td>484F5E541E4A4AD7</td>\n",
       "      <td>classic_bike</td>\n",
       "      <td>2025-04-24 18:32:17.408</td>\n",
       "      <td>2025-04-24 18:52:44.968</td>\n",
       "      <td>M32053</td>\n",
       "      <td>B32058</td>\n",
       "      <td>member</td>\n",
       "    </tr>\n",
       "  </tbody>\n",
       "</table>\n",
       "</div>"
      ],
      "text/plain": [
       "            ride_id rideable_type               started_at  \\\n",
       "0  0CB95C5072A9A0E5  classic_bike  2025-04-13 21:06:54.496   \n",
       "1  5C425780D5F59109  classic_bike  2025-04-28 12:38:52.585   \n",
       "2  76808A97675DCECE  classic_bike  2025-04-14 11:36:20.428   \n",
       "3  00E6835C21328359  classic_bike  2025-04-14 18:06:25.319   \n",
       "4  484F5E541E4A4AD7  classic_bike  2025-04-24 18:32:17.408   \n",
       "\n",
       "                  ended_at start_station_id end_station_id member_casual  \n",
       "0  2025-04-13 21:17:17.456           B32027         E32003        member  \n",
       "1  2025-04-28 12:41:22.185           A32044         A32049        member  \n",
       "2  2025-04-14 11:58:38.629           S32003         C32004        member  \n",
       "3  2025-04-14 18:21:04.129           M32053         B32058        member  \n",
       "4  2025-04-24 18:52:44.968           M32053         B32058        member  "
      ]
     },
     "execution_count": 6,
     "metadata": {},
     "output_type": "execute_result"
    }
   ],
   "source": [
    "rides.head()"
   ]
  },
  {
   "cell_type": "code",
   "execution_count": 14,
   "id": "109c8a26",
   "metadata": {},
   "outputs": [
    {
     "data": {
      "text/html": [
       "<div>\n",
       "<style scoped>\n",
       "    .dataframe tbody tr th:only-of-type {\n",
       "        vertical-align: middle;\n",
       "    }\n",
       "\n",
       "    .dataframe tbody tr th {\n",
       "        vertical-align: top;\n",
       "    }\n",
       "\n",
       "    .dataframe thead th {\n",
       "        text-align: right;\n",
       "    }\n",
       "</style>\n",
       "<table border=\"1\" class=\"dataframe\">\n",
       "  <thead>\n",
       "    <tr style=\"text-align: right;\">\n",
       "      <th></th>\n",
       "      <th>ride_id</th>\n",
       "      <th>rideable_type</th>\n",
       "      <th>started_at</th>\n",
       "      <th>ended_at</th>\n",
       "      <th>start_station_id</th>\n",
       "      <th>end_station_id</th>\n",
       "      <th>member_casual</th>\n",
       "      <th>ended_at_ts</th>\n",
       "      <th>started_at_ts</th>\n",
       "      <th>length</th>\n",
       "    </tr>\n",
       "  </thead>\n",
       "  <tbody>\n",
       "    <tr>\n",
       "      <th>0</th>\n",
       "      <td>0CB95C5072A9A0E5</td>\n",
       "      <td>classic_bike</td>\n",
       "      <td>2025-04-13 21:06:54.496</td>\n",
       "      <td>2025-04-13 21:17:17.456</td>\n",
       "      <td>B32027</td>\n",
       "      <td>E32003</td>\n",
       "      <td>member</td>\n",
       "      <td>2025-04-13 21:17:17.456</td>\n",
       "      <td>2025-04-13 21:06:54.496</td>\n",
       "      <td>10.382667</td>\n",
       "    </tr>\n",
       "    <tr>\n",
       "      <th>1</th>\n",
       "      <td>5C425780D5F59109</td>\n",
       "      <td>classic_bike</td>\n",
       "      <td>2025-04-28 12:38:52.585</td>\n",
       "      <td>2025-04-28 12:41:22.185</td>\n",
       "      <td>A32044</td>\n",
       "      <td>A32049</td>\n",
       "      <td>member</td>\n",
       "      <td>2025-04-28 12:41:22.185</td>\n",
       "      <td>2025-04-28 12:38:52.585</td>\n",
       "      <td>2.493333</td>\n",
       "    </tr>\n",
       "    <tr>\n",
       "      <th>2</th>\n",
       "      <td>76808A97675DCECE</td>\n",
       "      <td>classic_bike</td>\n",
       "      <td>2025-04-14 11:36:20.428</td>\n",
       "      <td>2025-04-14 11:58:38.629</td>\n",
       "      <td>S32003</td>\n",
       "      <td>C32004</td>\n",
       "      <td>member</td>\n",
       "      <td>2025-04-14 11:58:38.629</td>\n",
       "      <td>2025-04-14 11:36:20.428</td>\n",
       "      <td>22.303350</td>\n",
       "    </tr>\n",
       "    <tr>\n",
       "      <th>3</th>\n",
       "      <td>00E6835C21328359</td>\n",
       "      <td>classic_bike</td>\n",
       "      <td>2025-04-14 18:06:25.319</td>\n",
       "      <td>2025-04-14 18:21:04.129</td>\n",
       "      <td>M32053</td>\n",
       "      <td>B32058</td>\n",
       "      <td>member</td>\n",
       "      <td>2025-04-14 18:21:04.129</td>\n",
       "      <td>2025-04-14 18:06:25.319</td>\n",
       "      <td>14.646833</td>\n",
       "    </tr>\n",
       "    <tr>\n",
       "      <th>4</th>\n",
       "      <td>484F5E541E4A4AD7</td>\n",
       "      <td>classic_bike</td>\n",
       "      <td>2025-04-24 18:32:17.408</td>\n",
       "      <td>2025-04-24 18:52:44.968</td>\n",
       "      <td>M32053</td>\n",
       "      <td>B32058</td>\n",
       "      <td>member</td>\n",
       "      <td>2025-04-24 18:52:44.968</td>\n",
       "      <td>2025-04-24 18:32:17.408</td>\n",
       "      <td>20.459333</td>\n",
       "    </tr>\n",
       "  </tbody>\n",
       "</table>\n",
       "</div>"
      ],
      "text/plain": [
       "            ride_id rideable_type               started_at  \\\n",
       "0  0CB95C5072A9A0E5  classic_bike  2025-04-13 21:06:54.496   \n",
       "1  5C425780D5F59109  classic_bike  2025-04-28 12:38:52.585   \n",
       "2  76808A97675DCECE  classic_bike  2025-04-14 11:36:20.428   \n",
       "3  00E6835C21328359  classic_bike  2025-04-14 18:06:25.319   \n",
       "4  484F5E541E4A4AD7  classic_bike  2025-04-24 18:32:17.408   \n",
       "\n",
       "                  ended_at start_station_id end_station_id member_casual  \\\n",
       "0  2025-04-13 21:17:17.456           B32027         E32003        member   \n",
       "1  2025-04-28 12:41:22.185           A32044         A32049        member   \n",
       "2  2025-04-14 11:58:38.629           S32003         C32004        member   \n",
       "3  2025-04-14 18:21:04.129           M32053         B32058        member   \n",
       "4  2025-04-24 18:52:44.968           M32053         B32058        member   \n",
       "\n",
       "              ended_at_ts           started_at_ts     length  \n",
       "0 2025-04-13 21:17:17.456 2025-04-13 21:06:54.496  10.382667  \n",
       "1 2025-04-28 12:41:22.185 2025-04-28 12:38:52.585   2.493333  \n",
       "2 2025-04-14 11:58:38.629 2025-04-14 11:36:20.428  22.303350  \n",
       "3 2025-04-14 18:21:04.129 2025-04-14 18:06:25.319  14.646833  \n",
       "4 2025-04-24 18:52:44.968 2025-04-24 18:32:17.408  20.459333  "
      ]
     },
     "execution_count": 14,
     "metadata": {},
     "output_type": "execute_result"
    }
   ],
   "source": [
    "rides[\"ended_at_ts\"] = pd.to_datetime(rides[\"ended_at\"])\n",
    "rides[\"started_at_ts\"] = pd.to_datetime(rides[\"started_at\"])\n",
    "\n",
    "rides[\"length\"] = rides[\"ended_at_ts\"] - rides[\"started_at_ts\"]\n",
    "rides[\"length\"] = rides[\"length\"]/pd.Timedelta(1,'minute')\n",
    "rides.head()"
   ]
  },
  {
   "cell_type": "code",
   "execution_count": 48,
   "id": "8bff7259",
   "metadata": {},
   "outputs": [
    {
     "name": "stdout",
     "output_type": "stream",
     "text": [
      "The average length of a ride that starts and stops at the same station is 33.97 minutes\n",
      "Rides that start and stop at the location make up 3.23 percent of rides\n"
     ]
    }
   ],
   "source": [
    "same_station_rides = rides[rides[\"start_station_id\"]==rides[\"end_station_id\"]]\n",
    "avg_same_station_length = np.average(same_station_rides[\"length\"])\n",
    "avg_length = np.average(rides[\"length\"])\n",
    "print(f\"The average length of a ride that starts and stops at the same station is {round(avg_same_station_length,2)} minutes\") # almost 34 minutes\n",
    "print(f\"Rides that start and stop at the location make up {round(len(same_station_rides)/len(rides) * 100.0,2)} percent of rides\") ## 3.2 percent"
   ]
  },
  {
   "cell_type": "code",
   "execution_count": null,
   "id": "371e00fb",
   "metadata": {},
   "outputs": [
    {
     "name": "stdout",
     "output_type": "stream",
     "text": [
      "The average member ride length is: 12.54 minutes\n",
      "The average casual rider ride length is:25.64 minutes\n",
      "Members take an average of 2.66 more rides than casual riders\n"
     ]
    }
   ],
   "source": [
    "member_rides = rides[rides[\"member_casual\"]==\"member\"]\n",
    "casual_rides = rides[rides[\"member_casual\"]==\"casual\"]\n",
    "print(f\"The average member ride length is {round(np.average(member_rides[\"length\"]),2)} minutes\")\n",
    "print(f\"The average casual rider ride length is {round(np.average(casual_rides[\"length\"]),2)} minutes\")\n",
    "print(f\"Members take an average of {round(len(member_rides)/len(casual_rides),2)} more rides than casual riders\")"
   ]
  },
  {
   "cell_type": "code",
   "execution_count": null,
   "id": "d9602c6c",
   "metadata": {},
   "outputs": [
    {
     "ename": "SyntaxError",
     "evalue": "expected ':' (2772211012.py, line 18)",
     "output_type": "error",
     "traceback": [
      "  \u001b[36mCell\u001b[39m\u001b[36m \u001b[39m\u001b[32mIn[57]\u001b[39m\u001b[32m, line 18\u001b[39m\n\u001b[31m    \u001b[39m\u001b[31mfor time_of_day in [\"morning\"]\u001b[39m\n                                  ^\n\u001b[31mSyntaxError\u001b[39m\u001b[31m:\u001b[39m expected ':'\n"
     ]
    }
   ],
   "source": [
    "rides[\"hour\"] = rides[\"started_at_ts\"].dt.hour\n",
    "\n",
    "def time_of_day(hour):\n",
    "    if hour < 7:\n",
    "        return \"early morning\"\n",
    "    elif 7<=hour<12:\n",
    "        return \"morning\"\n",
    "    elif 12<=hour<17:\n",
    "        return \"afternoon\"\n",
    "    elif 17<=hour<20:\n",
    "        return \"evening\"\n",
    "    else:\n",
    "        return \"night\"\n",
    "    \n",
    "rides[\"time_of_day\"] = rides[\"hour\"].apply(time_of_day)\n",
    "rides[[\"started_at\",\"time_of_day\"]]\n",
    "\n",
    "for time_of_day in [\"early morning\",\"morning\",\"afternoon\",\"evening\",\"night\"]:\n"
   ]
  },
  {
   "cell_type": "code",
   "execution_count": null,
   "id": "97caa779",
   "metadata": {},
   "outputs": [],
   "source": []
  }
 ],
 "metadata": {
  "kernelspec": {
   "display_name": "Python 3",
   "language": "python",
   "name": "python3"
  },
  "language_info": {
   "codemirror_mode": {
    "name": "ipython",
    "version": 3
   },
   "file_extension": ".py",
   "mimetype": "text/x-python",
   "name": "python",
   "nbconvert_exporter": "python",
   "pygments_lexer": "ipython3",
   "version": "3.13.7"
  }
 },
 "nbformat": 4,
 "nbformat_minor": 5
}
