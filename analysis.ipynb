{
 "cells": [
  {
   "cell_type": "code",
   "execution_count": 23,
   "id": "81207b02",
   "metadata": {},
   "outputs": [],
   "source": [
    "import requests\n",
    "from zipfile import ZipFile\n",
    "import sqlite3\n",
    "import os\n",
    "import pandas as pd"
   ]
  },
  {
   "cell_type": "code",
   "execution_count": 24,
   "id": "6792e818",
   "metadata": {},
   "outputs": [],
   "source": [
    "src_url = \"https://s3.amazonaws.com/hubway-data/202504-bluebikes-tripdata.zip\""
   ]
  },
  {
   "cell_type": "code",
   "execution_count": null,
   "id": "b2105583",
   "metadata": {},
   "outputs": [],
   "source": [
    "cur_dir = os.getcwd()\n",
    "\n",
    "response = requests.get(src_url)\n",
    "zip_download_path = 'LND.zip'\n",
    "\n",
    "if response.status_code == 200:\n",
    "    with open(zip_download_path, 'wb') as file:\n",
    "        file.write(response.content)\n",
    "\n",
    "with ZipFile(zip_download_path) as zipObject:\n",
    "    zipObject.extractall(os.path.join(cur_dir,\"lnd\"))\n",
    "\n",
    "csv_path = \"lnd/202504-bluebikes-tripdata.csv\"\n",
    "db_pth = \"sqlite/bluebikes.db\""
   ]
  },
  {
   "cell_type": "code",
   "execution_count": null,
   "id": "5cf3b6d8",
   "metadata": {},
   "outputs": [
    {
     "ename": "AttributeError",
     "evalue": "'str' object has no attribute 'to_sql'",
     "output_type": "error",
     "traceback": [
      "\u001b[31m---------------------------------------------------------------------------\u001b[39m",
      "\u001b[31mAttributeError\u001b[39m                            Traceback (most recent call last)",
      "\u001b[36mCell\u001b[39m\u001b[36m \u001b[39m\u001b[32mIn[22]\u001b[39m\u001b[32m, line 3\u001b[39m\n\u001b[32m      1\u001b[39m conn = sqlite3.connect(\u001b[33m'\u001b[39m\u001b[33mbluebikes.db\u001b[39m\u001b[33m'\u001b[39m)\n\u001b[32m----> \u001b[39m\u001b[32m3\u001b[39m \u001b[43mcsv\u001b[49m\u001b[43m.\u001b[49m\u001b[43mto_sql\u001b[49m(conn)\n",
      "\u001b[31mAttributeError\u001b[39m: 'str' object has no attribute 'to_sql'"
     ]
    }
   ],
   "source": [
    "df = pd.read_csv(csv_path)\n",
    "conn = sqlite3.connect(db_pth)\n"
   ]
  },
  {
   "cell_type": "code",
   "execution_count": null,
   "id": "eabee4fe",
   "metadata": {},
   "outputs": [],
   "source": []
  }
 ],
 "metadata": {
  "kernelspec": {
   "display_name": "Python 3",
   "language": "python",
   "name": "python3"
  },
  "language_info": {
   "codemirror_mode": {
    "name": "ipython",
    "version": 3
   },
   "file_extension": ".py",
   "mimetype": "text/x-python",
   "name": "python",
   "nbconvert_exporter": "python",
   "pygments_lexer": "ipython3",
   "version": "3.13.7"
  }
 },
 "nbformat": 4,
 "nbformat_minor": 5
}
